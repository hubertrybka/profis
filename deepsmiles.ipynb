{
 "cells": [
  {
   "cell_type": "code",
   "id": "initial_id",
   "metadata": {
    "collapsed": true,
    "ExecuteTime": {
     "end_time": "2024-05-18T11:17:05.379041Z",
     "start_time": "2024-05-18T11:17:05.371781Z"
    }
   },
   "source": "import deepsmiles as ds",
   "outputs": [],
   "execution_count": 1
  },
  {
   "metadata": {
    "ExecuteTime": {
     "end_time": "2024-05-18T11:17:17.411690Z",
     "start_time": "2024-05-18T11:17:05.618531Z"
    }
   },
   "cell_type": "code",
   "source": [
    "import pandas as pd\n",
    "\n",
    "df = pd.read_parquet('data/RNN_dataset_ECFP.parquet')"
   ],
   "id": "da70a4ce51ca0e2c",
   "outputs": [],
   "execution_count": 2
  },
  {
   "metadata": {
    "ExecuteTime": {
     "end_time": "2024-05-18T11:17:17.428155Z",
     "start_time": "2024-05-18T11:17:17.413771Z"
    }
   },
   "cell_type": "code",
   "source": "df.head()",
   "id": "e92fd71be61fb2c9",
   "outputs": [
    {
     "data": {
      "text/plain": [
       "                                              smiles  \\\n",
       "0                       Cc1ccc(C)n1-c1cccc(C(=O)O)c1   \n",
       "1         Cc1nc2c(c(C)c1CC(=O)NCc1ccco1)c(=O)[nH]n2C   \n",
       "2             O=C(c1csnn1)N1CCCC2(CCN(c3ncccn3)C2)C1   \n",
       "3  CCC(C(=O)NCc1ccco1)n1nc(C)c2c(C)n(-c3ccc(C)cc3...   \n",
       "4               O=S(=O)(NCc1ccc2c(c1)OCO2)c1c[nH]cn1   \n",
       "\n",
       "                                                 fps  \n",
       "0  [94, 389, 456, 650, 807, 875, 883, 935, 1039, ...  \n",
       "1  [24, 41, 80, 92, 197, 252, 255, 314, 325, 333,...  \n",
       "2  [18, 180, 216, 338, 369, 378, 395, 399, 407, 4...  \n",
       "3  [1, 80, 92, 122, 197, 233, 235, 255, 294, 302,...  \n",
       "4  [29, 80, 84, 255, 310, 350, 378, 441, 502, 625...  "
      ],
      "text/html": [
       "<div>\n",
       "<style scoped>\n",
       "    .dataframe tbody tr th:only-of-type {\n",
       "        vertical-align: middle;\n",
       "    }\n",
       "\n",
       "    .dataframe tbody tr th {\n",
       "        vertical-align: top;\n",
       "    }\n",
       "\n",
       "    .dataframe thead th {\n",
       "        text-align: right;\n",
       "    }\n",
       "</style>\n",
       "<table border=\"1\" class=\"dataframe\">\n",
       "  <thead>\n",
       "    <tr style=\"text-align: right;\">\n",
       "      <th></th>\n",
       "      <th>smiles</th>\n",
       "      <th>fps</th>\n",
       "    </tr>\n",
       "  </thead>\n",
       "  <tbody>\n",
       "    <tr>\n",
       "      <th>0</th>\n",
       "      <td>Cc1ccc(C)n1-c1cccc(C(=O)O)c1</td>\n",
       "      <td>[94, 389, 456, 650, 807, 875, 883, 935, 1039, ...</td>\n",
       "    </tr>\n",
       "    <tr>\n",
       "      <th>1</th>\n",
       "      <td>Cc1nc2c(c(C)c1CC(=O)NCc1ccco1)c(=O)[nH]n2C</td>\n",
       "      <td>[24, 41, 80, 92, 197, 252, 255, 314, 325, 333,...</td>\n",
       "    </tr>\n",
       "    <tr>\n",
       "      <th>2</th>\n",
       "      <td>O=C(c1csnn1)N1CCCC2(CCN(c3ncccn3)C2)C1</td>\n",
       "      <td>[18, 180, 216, 338, 369, 378, 395, 399, 407, 4...</td>\n",
       "    </tr>\n",
       "    <tr>\n",
       "      <th>3</th>\n",
       "      <td>CCC(C(=O)NCc1ccco1)n1nc(C)c2c(C)n(-c3ccc(C)cc3...</td>\n",
       "      <td>[1, 80, 92, 122, 197, 233, 235, 255, 294, 302,...</td>\n",
       "    </tr>\n",
       "    <tr>\n",
       "      <th>4</th>\n",
       "      <td>O=S(=O)(NCc1ccc2c(c1)OCO2)c1c[nH]cn1</td>\n",
       "      <td>[29, 80, 84, 255, 310, 350, 378, 441, 502, 625...</td>\n",
       "    </tr>\n",
       "  </tbody>\n",
       "</table>\n",
       "</div>"
      ]
     },
     "execution_count": 3,
     "metadata": {},
     "output_type": "execute_result"
    }
   ],
   "execution_count": 3
  },
  {
   "metadata": {
    "ExecuteTime": {
     "end_time": "2024-05-18T11:17:59.015127Z",
     "start_time": "2024-05-18T11:17:17.429584Z"
    }
   },
   "cell_type": "code",
   "source": [
    "from profis.utils.vectorizer import SMILESVectorizer\n",
    "vectorizer = SMILESVectorizer()\n",
    "\n",
    "converter = ds.Converter(rings=True, branches=True)\n",
    "df['deepsmiles'] = df['smiles'].apply(lambda x: converter.encode(x))\n",
    "df['split'] = df['deepsmiles'].apply(lambda x: vectorizer.split(x))"
   ],
   "id": "b99e650396427d7c",
   "outputs": [],
   "execution_count": 4
  },
  {
   "metadata": {
    "ExecuteTime": {
     "end_time": "2024-05-18T11:18:09.764569Z",
     "start_time": "2024-05-18T11:18:09.748542Z"
    }
   },
   "cell_type": "code",
   "source": "df.head()",
   "id": "a9ce01b137b9b412",
   "outputs": [
    {
     "data": {
      "text/plain": [
       "                                              smiles  \\\n",
       "0                       Cc1ccc(C)n1-c1cccc(C(=O)O)c1   \n",
       "1         Cc1nc2c(c(C)c1CC(=O)NCc1ccco1)c(=O)[nH]n2C   \n",
       "2             O=C(c1csnn1)N1CCCC2(CCN(c3ncccn3)C2)C1   \n",
       "3  CCC(C(=O)NCc1ccco1)n1nc(C)c2c(C)n(-c3ccc(C)cc3...   \n",
       "4               O=S(=O)(NCc1ccc2c(c1)OCO2)c1c[nH]cn1   \n",
       "\n",
       "                                                 fps  \\\n",
       "0  [94, 389, 456, 650, 807, 875, 883, 935, 1039, ...   \n",
       "1  [24, 41, 80, 92, 197, 252, 255, 314, 325, 333,...   \n",
       "2  [18, 180, 216, 338, 369, 378, 395, 399, 407, 4...   \n",
       "3  [1, 80, 92, 122, 197, 233, 235, 255, 294, 302,...   \n",
       "4  [29, 80, 84, 255, 310, 350, 378, 441, 502, 625...   \n",
       "\n",
       "                                          deepsmiles  \\\n",
       "0                           CccccC)n5-cccccC=O)O))c6   \n",
       "1      CcncccC)c6CC=O)NCcccco5)))))))))))c=O)[nH]n5C   \n",
       "2        O=Cccsnn5)))))NCCCCCCNcncccn6))))))C5))))C6   \n",
       "3  CCCC=O)NCcccco5))))))))nncC)ccC)n-ccccC)cc6)))...   \n",
       "4            O=S=O)NCcccccc6)OCO5))))))))))cc[nH]cn5   \n",
       "\n",
       "                                               split  \n",
       "0  [C, c, c, c, c, C, ), n, 5, -, c, c, c, c, c, ...  \n",
       "1  [C, c, n, c, c, c, C, ), c, 6, C, C, =, O, ), ...  \n",
       "2  [O, =, C, c, c, s, n, n, 5, ), ), ), ), ), N, ...  \n",
       "3  [C, C, C, C, =, O, ), N, C, c, c, c, c, o, 5, ...  \n",
       "4  [O, =, S, =, O, ), N, C, c, c, c, c, c, c, 6, ...  "
      ],
      "text/html": [
       "<div>\n",
       "<style scoped>\n",
       "    .dataframe tbody tr th:only-of-type {\n",
       "        vertical-align: middle;\n",
       "    }\n",
       "\n",
       "    .dataframe tbody tr th {\n",
       "        vertical-align: top;\n",
       "    }\n",
       "\n",
       "    .dataframe thead th {\n",
       "        text-align: right;\n",
       "    }\n",
       "</style>\n",
       "<table border=\"1\" class=\"dataframe\">\n",
       "  <thead>\n",
       "    <tr style=\"text-align: right;\">\n",
       "      <th></th>\n",
       "      <th>smiles</th>\n",
       "      <th>fps</th>\n",
       "      <th>deepsmiles</th>\n",
       "      <th>split</th>\n",
       "    </tr>\n",
       "  </thead>\n",
       "  <tbody>\n",
       "    <tr>\n",
       "      <th>0</th>\n",
       "      <td>Cc1ccc(C)n1-c1cccc(C(=O)O)c1</td>\n",
       "      <td>[94, 389, 456, 650, 807, 875, 883, 935, 1039, ...</td>\n",
       "      <td>CccccC)n5-cccccC=O)O))c6</td>\n",
       "      <td>[C, c, c, c, c, C, ), n, 5, -, c, c, c, c, c, ...</td>\n",
       "    </tr>\n",
       "    <tr>\n",
       "      <th>1</th>\n",
       "      <td>Cc1nc2c(c(C)c1CC(=O)NCc1ccco1)c(=O)[nH]n2C</td>\n",
       "      <td>[24, 41, 80, 92, 197, 252, 255, 314, 325, 333,...</td>\n",
       "      <td>CcncccC)c6CC=O)NCcccco5)))))))))))c=O)[nH]n5C</td>\n",
       "      <td>[C, c, n, c, c, c, C, ), c, 6, C, C, =, O, ), ...</td>\n",
       "    </tr>\n",
       "    <tr>\n",
       "      <th>2</th>\n",
       "      <td>O=C(c1csnn1)N1CCCC2(CCN(c3ncccn3)C2)C1</td>\n",
       "      <td>[18, 180, 216, 338, 369, 378, 395, 399, 407, 4...</td>\n",
       "      <td>O=Cccsnn5)))))NCCCCCCNcncccn6))))))C5))))C6</td>\n",
       "      <td>[O, =, C, c, c, s, n, n, 5, ), ), ), ), ), N, ...</td>\n",
       "    </tr>\n",
       "    <tr>\n",
       "      <th>3</th>\n",
       "      <td>CCC(C(=O)NCc1ccco1)n1nc(C)c2c(C)n(-c3ccc(C)cc3...</td>\n",
       "      <td>[1, 80, 92, 122, 197, 233, 235, 255, 294, 302,...</td>\n",
       "      <td>CCCC=O)NCcccco5))))))))nncC)ccC)n-ccccC)cc6)))...</td>\n",
       "      <td>[C, C, C, C, =, O, ), N, C, c, c, c, c, o, 5, ...</td>\n",
       "    </tr>\n",
       "    <tr>\n",
       "      <th>4</th>\n",
       "      <td>O=S(=O)(NCc1ccc2c(c1)OCO2)c1c[nH]cn1</td>\n",
       "      <td>[29, 80, 84, 255, 310, 350, 378, 441, 502, 625...</td>\n",
       "      <td>O=S=O)NCcccccc6)OCO5))))))))))cc[nH]cn5</td>\n",
       "      <td>[O, =, S, =, O, ), N, C, c, c, c, c, c, c, 6, ...</td>\n",
       "    </tr>\n",
       "  </tbody>\n",
       "</table>\n",
       "</div>"
      ]
     },
     "execution_count": 5,
     "metadata": {},
     "output_type": "execute_result"
    }
   ],
   "execution_count": 5
  },
  {
   "metadata": {
    "ExecuteTime": {
     "end_time": "2024-05-18T11:18:27.947604Z",
     "start_time": "2024-05-18T11:18:27.925991Z"
    }
   },
   "cell_type": "code",
   "source": "splits = df['split'].tolist()",
   "id": "75b81b990a73bc00",
   "outputs": [],
   "execution_count": 6
  },
  {
   "metadata": {
    "ExecuteTime": {
     "end_time": "2024-05-18T11:19:20.412314Z",
     "start_time": "2024-05-18T11:19:15.096751Z"
    }
   },
   "cell_type": "code",
   "source": [
    "from tqdm import tqdm\n",
    "alphabet = []\n",
    "for split in tqdm(splits):\n",
    "    for s in split:\n",
    "        if s not in alphabet:\n",
    "            alphabet.append(s)"
   ],
   "id": "1d006dfa1050fa3c",
   "outputs": [
    {
     "name": "stderr",
     "output_type": "stream",
     "text": [
      "100%|██████████| 1126085/1126085 [00:05<00:00, 212922.74it/s]\n"
     ]
    }
   ],
   "execution_count": 8
  },
  {
   "metadata": {
    "ExecuteTime": {
     "end_time": "2024-05-18T11:22:14.866332Z",
     "start_time": "2024-05-18T11:22:09.619876Z"
    }
   },
   "cell_type": "code",
   "source": [
    "counts = {s: 0 for s in alphabet}\n",
    "for split in tqdm(splits):\n",
    "    for s in split:\n",
    "        counts[s] += 1"
   ],
   "id": "ae20162498013543",
   "outputs": [
    {
     "name": "stderr",
     "output_type": "stream",
     "text": [
      "100%|██████████| 1126085/1126085 [00:05<00:00, 215217.92it/s]\n"
     ]
    }
   ],
   "execution_count": 10
  },
  {
   "metadata": {
    "ExecuteTime": {
     "end_time": "2024-05-18T11:28:14.183154Z",
     "start_time": "2024-05-18T11:28:14.178671Z"
    }
   },
   "cell_type": "code",
   "source": "alphabet",
   "id": "d9eca9bba45214d4",
   "outputs": [
    {
     "data": {
      "text/plain": [
       "['C',\n",
       " 'c',\n",
       " ')',\n",
       " 'n',\n",
       " '5',\n",
       " '-',\n",
       " '=',\n",
       " 'O',\n",
       " '6',\n",
       " 'N',\n",
       " 'o',\n",
       " '[nH]',\n",
       " 's',\n",
       " '9',\n",
       " 'S',\n",
       " '%10',\n",
       " 'F',\n",
       " 'Cl',\n",
       " 'Br',\n",
       " '#',\n",
       " '3',\n",
       " '4',\n",
       " '%18',\n",
       " '%13',\n",
       " '[N+]',\n",
       " '7',\n",
       " '%20',\n",
       " '%15',\n",
       " '%11',\n",
       " '8',\n",
       " '%19',\n",
       " '%21',\n",
       " 'P',\n",
       " 'I',\n",
       " '%14',\n",
       " '%12',\n",
       " '%17',\n",
       " '[n+]',\n",
       " '%16',\n",
       " '%22',\n",
       " '%24',\n",
       " '%23',\n",
       " '%28',\n",
       " '%27',\n",
       " '%26',\n",
       " '%25']"
      ]
     },
     "execution_count": 17,
     "metadata": {},
     "output_type": "execute_result"
    }
   ],
   "execution_count": 17
  },
  {
   "metadata": {
    "ExecuteTime": {
     "end_time": "2024-05-18T11:25:22.771370Z",
     "start_time": "2024-05-18T11:25:22.635379Z"
    }
   },
   "cell_type": "code",
   "source": [
    "percents = []\n",
    "for s in df.deepsmiles:\n",
    "    if '%' in s:\n",
    "        percents.append(s)\n",
    "percents = percents[:10]\n",
    "smiles = [converter.decode(p) for p in percents]\n",
    "pairs = list(zip(percents, smiles))\n",
    "pairs"
   ],
   "id": "e022cb7ddbc15ad7",
   "outputs": [
    {
     "data": {
      "text/plain": [
       "[('O=CcccO)ncccccc%106))))))))))NCCNcccccCF)F)F))c6))))))CC6',\n",
       "  'O=C(c1cc(O)nc2ccccc12)N4CCN(c3cccc(C(F)(F)F)c3)CC4'),\n",
       " ('O=CNCCCCcncNCCCCC6))))))ncc6%10)))))))))))CCCCC5',\n",
       "  'O=C(NC3CCCc2nc(N1CCCCC1)ncc23)C4CCCC4'),\n",
       " ('COC=O)CNC=O)CSccccS=O)=O)NccccCC)=O))cc6))))))))cc6%10',\n",
       "  'COC(=O)CN3C(=O)CSc2ccc(S(=O)(=O)Nc1ccc(C(C)=O)cc1)cc23'),\n",
       " ('O=ccCl)cocccccc6nc-%10cccccc%186', 'O=c3c(Cl)c2oc1ccccc1nc-2c4ccccc34'),\n",
       " ('COC=CNCCOCC6))))))C=O)cccccc6C%10=O', 'COC3=C(N1CCOCC1)C(=O)c2ccccc2C3=O'),\n",
       " ('Ccccc[nH]cc=O)nCC=O)NccccBr)cc6C))))))))))ncc6c9c%13',\n",
       "  'Cc4ccc3[nH]c2c(=O)n(CC(=O)Nc1ccc(Br)cc1C)ncc2c3c4'),\n",
       " ('Ccncccccc6nc%10OCC=O)NCCNcccccc6))))))CC6',\n",
       "  'Cc2nc1ccccc1nc2OCC(=O)N4CCN(c3ccccc3)CC4'),\n",
       " ('COccccS=O)=O)NCC)C)C))))cc6-cnnccccccc6cC)nn%13%10',\n",
       "  'COc1ccc(S(=O)(=O)NC(C)(C)C)cc1-c3nnc4c2ccccc2c(C)nn34'),\n",
       " ('CS=O)=O)NccccC=NNSC)=O)=O))Cccccnccnc6c%10))))))))))C5)))))cc6',\n",
       "  'CS(=O)(=O)Nc4ccc(C3=NN(S(C)(=O)=O)C(c2ccc1nccnc1c2)C3)cc4'),\n",
       " ('N=CN)cccccOCccccccCOcccccC=N)N))c6))))))))ccc6c%10))))))))))))c6',\n",
       "  'N=C(N)c4cccc(OCc3ccc2cc(COc1cccc(C(=N)N)c1)ccc2c3)c4')]"
      ]
     },
     "execution_count": 16,
     "metadata": {},
     "output_type": "execute_result"
    }
   ],
   "execution_count": 16
  },
  {
   "metadata": {
    "ExecuteTime": {
     "end_time": "2024-05-18T11:37:18.102653Z",
     "start_time": "2024-05-18T11:37:18.085340Z"
    }
   },
   "cell_type": "code",
   "source": "import selfies as sf",
   "id": "a3f1bd4c272c351",
   "outputs": [],
   "execution_count": 18
  },
  {
   "metadata": {
    "ExecuteTime": {
     "end_time": "2024-05-18T11:37:25.888215Z",
     "start_time": "2024-05-18T11:37:25.885373Z"
    }
   },
   "cell_type": "code",
   "source": "test_smile = 'CS(=O)(=O)Nc4ccc(C3=NN(S(C)(=O)=O)C(c2ccc1nccnc1c2)C3)cc4'",
   "id": "9a1ba5e18b4ec1c0",
   "outputs": [],
   "execution_count": 19
  },
  {
   "metadata": {
    "ExecuteTime": {
     "end_time": "2024-05-18T11:37:27.823935Z",
     "start_time": "2024-05-18T11:37:27.819577Z"
    }
   },
   "cell_type": "code",
   "source": "sf_selfie = sf.encoder(test_smile)",
   "id": "cbc37ea20db4be3",
   "outputs": [],
   "execution_count": 20
  },
  {
   "metadata": {
    "ExecuteTime": {
     "end_time": "2024-05-18T11:37:29.458752Z",
     "start_time": "2024-05-18T11:37:29.452947Z"
    }
   },
   "cell_type": "code",
   "source": "sf_selfie",
   "id": "45d228be8bef47e4",
   "outputs": [
    {
     "data": {
      "text/plain": [
       "'[C][S][=Branch1][C][=O][=Branch1][C][=O][N][C][=C][C][=C][Branch2][Ring2][Ring1][C][=N][N][Branch1][=Branch2][S][Branch1][C][C][=Branch1][C][=O][=O][C][Branch1][#C][C][=C][C][=C][N][=C][C][=N][C][Ring1][=Branch1][=C][Ring1][#Branch2][C][Ring2][Ring1][Ring1][C][=C][Ring2][Ring1][=Branch2]'"
      ]
     },
     "execution_count": 21,
     "metadata": {},
     "output_type": "execute_result"
    }
   ],
   "execution_count": 21
  },
  {
   "metadata": {},
   "cell_type": "code",
   "outputs": [],
   "execution_count": null,
   "source": "",
   "id": "5d380a6ca1ed1e0d"
  }
 ],
 "metadata": {
  "kernelspec": {
   "display_name": "Python 3",
   "language": "python",
   "name": "python3"
  },
  "language_info": {
   "codemirror_mode": {
    "name": "ipython",
    "version": 2
   },
   "file_extension": ".py",
   "mimetype": "text/x-python",
   "name": "python",
   "nbconvert_exporter": "python",
   "pygments_lexer": "ipython2",
   "version": "2.7.6"
  }
 },
 "nbformat": 4,
 "nbformat_minor": 5
}
