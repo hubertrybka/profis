{
 "cells": [
  {
   "cell_type": "code",
   "id": "initial_id",
   "metadata": {
    "collapsed": true,
    "ExecuteTime": {
     "end_time": "2024-05-07T10:19:54.320446Z",
     "start_time": "2024-05-07T10:19:52.693988Z"
    }
   },
   "source": [
    "from profis.utils.vectorizer import SELFIESVectorizer, SMILESVectorizer\n",
    "from profis.gen.dataset import SELFIESDataset, SMILESDataset, LatentEncoderDataset\n",
    "import pandas as pd\n",
    "vec = SELFIESVectorizer(pad_to_len=128, alphabet_path='../data/selfies_alphabet.txt')\n",
    "dataset = SELFIESDataset(pd.read_parquet('data/test_RNN_dataset_KRFP.parquet'),\n",
    "                         vectorizer=vec,\n",
    "                         fp_len=4860)\n",
    "assert len(dataset) == 10"
   ],
   "outputs": [],
   "execution_count": 1
  },
  {
   "metadata": {
    "ExecuteTime": {
     "end_time": "2024-05-07T09:24:43.746565Z",
     "start_time": "2024-05-07T09:24:43.732384Z"
    }
   },
   "cell_type": "code",
   "source": [
    "fps = []\n",
    "for i in range(len(dataset)):\n",
    "    fps.append(dataset[i][0])"
   ],
   "id": "f6010e886577e978",
   "outputs": [],
   "execution_count": 26
  },
  {
   "metadata": {
    "ExecuteTime": {
     "end_time": "2024-05-07T09:25:12.580118Z",
     "start_time": "2024-05-07T09:25:12.410865Z"
    }
   },
   "cell_type": "code",
   "source": [
    "sums = [int(sum(fp)) for fp in fps]\n",
    "sums"
   ],
   "id": "884701e9cd937c13",
   "outputs": [
    {
     "data": {
      "text/plain": [
       "[18, 36, 53, 50, 35, 56, 50, 89, 69, 73]"
      ]
     },
     "execution_count": 29,
     "metadata": {},
     "output_type": "execute_result"
    }
   ],
   "execution_count": 29
  },
  {
   "metadata": {
    "ExecuteTime": {
     "end_time": "2024-05-07T09:40:09.732635Z",
     "start_time": "2024-05-07T09:40:09.717273Z"
    }
   },
   "cell_type": "code",
   "source": [
    "import torch\n",
    "sum(sum(dataset[0][1]))"
   ],
   "id": "ba4af9dee0f3da4e",
   "outputs": [
    {
     "data": {
      "text/plain": [
       "tensor(128.)"
      ]
     },
     "execution_count": 42,
     "metadata": {},
     "output_type": "execute_result"
    }
   ],
   "execution_count": 42
  },
  {
   "metadata": {
    "ExecuteTime": {
     "end_time": "2024-05-07T09:54:04.966211Z",
     "start_time": "2024-05-07T09:54:04.945216Z"
    }
   },
   "cell_type": "code",
   "source": [
    "led = LatentEncoderDataset(pd.read_parquet('data/test_RNN_dataset_KRFP.parquet'),\n",
    "                           fp_len=4860)"
   ],
   "id": "8b96c45a394e4ad3",
   "outputs": [],
   "execution_count": 3
  },
  {
   "metadata": {
    "ExecuteTime": {
     "end_time": "2024-05-07T09:54:14.670655Z",
     "start_time": "2024-05-07T09:54:14.657127Z"
    }
   },
   "cell_type": "code",
   "source": "led[0]",
   "id": "b9cd4c5ca445aeb6",
   "outputs": [
    {
     "data": {
      "text/plain": [
       "tensor([0., 0., 0.,  ..., 0., 0., 0.])"
      ]
     },
     "execution_count": 5,
     "metadata": {},
     "output_type": "execute_result"
    }
   ],
   "execution_count": 5
  },
  {
   "metadata": {
    "ExecuteTime": {
     "end_time": "2024-05-07T10:21:56.921905Z",
     "start_time": "2024-05-07T10:21:56.905217Z"
    }
   },
   "cell_type": "code",
   "source": [
    "import selfies as sf\n",
    "smile = 'C1C2=NN=CN2C3=C(C=C(C=C3)Cl)C(=N1)C4=CC=CC=C4'\n",
    "selfie = sf.encoder(smile)\n",
    "selfie"
   ],
   "id": "a21bd72b6fdd6c36",
   "outputs": [
    {
     "data": {
      "text/plain": [
       "'[C][C][=N][N][=C][N][Ring1][Branch1][C][=C][Branch1][#Branch2][C][=C][Branch1][Branch1][C][=C][Ring1][=Branch1][Cl][C][=Branch1][Ring2][=N][Ring1][#C][C][=C][C][=C][C][=C][Ring1][=Branch1]'"
      ]
     },
     "execution_count": 3,
     "metadata": {},
     "output_type": "execute_result"
    }
   ],
   "execution_count": 3
  },
  {
   "metadata": {},
   "cell_type": "code",
   "outputs": [],
   "execution_count": null,
   "source": "",
   "id": "8e0ee5003e7758cc"
  }
 ],
 "metadata": {
  "kernelspec": {
   "display_name": "Python 3",
   "language": "python",
   "name": "python3"
  },
  "language_info": {
   "codemirror_mode": {
    "name": "ipython",
    "version": 2
   },
   "file_extension": ".py",
   "mimetype": "text/x-python",
   "name": "python",
   "nbconvert_exporter": "python",
   "pygments_lexer": "ipython2",
   "version": "2.7.6"
  }
 },
 "nbformat": 4,
 "nbformat_minor": 5
}
