{
 "cells": [
  {
   "metadata": {
    "ExecuteTime": {
     "end_time": "2024-05-07T10:53:49.114213Z",
     "start_time": "2024-05-07T10:53:48.875523Z"
    }
   },
   "cell_type": "code",
   "source": [
    "import numpy as np\n",
    "import pandas as pd\n",
    "import torch\n",
    "import torch.utils.data as Data\n",
    "from tqdm import tqdm\n",
    "from profis.gen.dataset import LatentEncoderDataset\n",
    "from profis.utils.modelinit import initialize_model\n",
    "from profis.utils.finger import encode\n",
    "\n",
    "df = pd.read_parquet('data/test_d2_dataset_KRFP.parquet')\n",
    "device = torch.device('cuda' if torch.cuda.is_available() else 'cpu')\n",
    "model = initialize_model('data/test_RNN_config.ini', device)\n",
    "\n",
    "def test\n"
   ],
   "id": "41b0395a2bab4bf4",
   "execution_count": 6,
   "outputs": []
  },
  {
   "metadata": {
    "ExecuteTime": {
     "end_time": "2024-05-07T10:53:50.248560Z",
     "start_time": "2024-05-07T10:53:50.237223Z"
    }
   },
   "cell_type": "code",
   "source": "",
   "id": "447c248c54cc402e",
   "execution_count": 7,
   "outputs": []
  },
  {
   "metadata": {
    "ExecuteTime": {
     "end_time": "2024-05-07T10:59:31.116818Z",
     "start_time": "2024-05-07T10:59:31.111019Z"
    }
   },
   "cell_type": "code",
   "source": "mus.shape",
   "id": "b57b3a02fb3b0a0c",
   "execution_count": 8,
   "outputs": []
  },
  {
   "metadata": {},
   "cell_type": "code",
   "execution_count": null,
   "source": "",
   "id": "462bf7d6287240ba",
   "outputs": []
  }
 ],
 "metadata": {
  "kernelspec": {
   "display_name": "Python 3",
   "language": "python",
   "name": "python3"
  },
  "language_info": {
   "codemirror_mode": {
    "name": "ipython",
    "version": 2
   },
   "file_extension": ".py",
   "mimetype": "text/x-python",
   "name": "python",
   "nbconvert_exporter": "python",
   "pygments_lexer": "ipython2",
   "version": "2.7.6"
  }
 },
 "nbformat": 4,
 "nbformat_minor": 5
}
